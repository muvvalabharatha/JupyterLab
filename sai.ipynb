{
 "cells": [
  {
   "cell_type": "code",
   "execution_count": 1,
   "id": "f38d2cd9-558f-40b6-aa9b-bde15757d7b1",
   "metadata": {},
   "outputs": [
    {
     "name": "stdout",
     "output_type": "stream",
     "text": [
      "Hi\n"
     ]
    }
   ],
   "source": [
    "print('Hi')"
   ]
  },
  {
   "cell_type": "code",
   "execution_count": 2,
   "id": "ea4924f5-49a6-4124-b6f8-fe8d22734cd2",
   "metadata": {},
   "outputs": [
    {
     "name": "stdout",
     "output_type": "stream",
     "text": [
      "sadfsf\n",
      "asddsd\n"
     ]
    }
   ],
   "source": [
    "print('sadfsf')\n",
    "print('asddsd')"
   ]
  },
  {
   "cell_type": "code",
   "execution_count": null,
   "id": "23b927af-3357-4c98-8885-46c0546aa992",
   "metadata": {},
   "outputs": [],
   "source": []
  }
 ],
 "metadata": {
  "kernelspec": {
   "display_name": "Python 3",
   "language": "python",
   "name": "python3"
  },
  "language_info": {
   "codemirror_mode": {
    "name": "ipython",
    "version": 3
   },
   "file_extension": ".py",
   "mimetype": "text/x-python",
   "name": "python",
   "nbconvert_exporter": "python",
   "pygments_lexer": "ipython3",
   "version": "3.7.8"
  }
 },
 "nbformat": 4,
 "nbformat_minor": 5
}
